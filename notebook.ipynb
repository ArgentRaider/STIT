{
 "cells": [
  {
   "cell_type": "code",
   "execution_count": 1,
   "id": "3c5f1440",
   "metadata": {},
   "outputs": [],
   "source": [
    "import numpy as np\n",
    "import torch\n",
    "from editings import styleclip_global_utils\n",
    "from utils.models_utils import load_generators, load_old_G, load_from_pkl_model\n",
    "from utils.edit_utils import get_affine_layers, load_stylespace_std, to_styles"
   ]
  },
  {
   "cell_type": "code",
   "execution_count": 2,
   "id": "53f1738e",
   "metadata": {},
   "outputs": [],
   "source": [
    "gen = load_from_pkl_model( load_old_G() )"
   ]
  },
  {
   "cell_type": "code",
   "execution_count": 3,
   "id": "6d55954a",
   "metadata": {},
   "outputs": [],
   "source": [
    "affine_layers = get_affine_layers(gen.synthesis)"
   ]
  },
  {
   "cell_type": "code",
   "execution_count": 4,
   "id": "f96e4367",
   "metadata": {},
   "outputs": [],
   "source": [
    "neutral_class = 'face'\n",
    "beta = 0.1\n",
    "edit_names = ['happy', 'angry']"
   ]
  },
  {
   "cell_type": "code",
   "execution_count": 5,
   "id": "fa063af8",
   "metadata": {},
   "outputs": [
    {
     "name": "stderr",
     "output_type": "stream",
     "text": [
      "100%|██████████████████████████████████████████████████████████████████████████████████████████████| 2/2 [00:03<00:00,  1.76s/it]\n",
      "100%|██████████████████████████████████████████████████████████████████████████████████████████████| 2/2 [00:00<00:00,  4.96it/s]\n"
     ]
    }
   ],
   "source": [
    "direction_happy = styleclip_global_utils.get_direction(neutral_class, 'happy', beta)\n",
    "direction_angry = styleclip_global_utils.get_direction(neutral_class, 'angry', beta)"
   ]
  },
  {
   "cell_type": "code",
   "execution_count": 6,
   "id": "f8559c4f",
   "metadata": {},
   "outputs": [],
   "source": [
    "edit_happy = to_styles(direction_happy, affine_layers)\n",
    "edit_angry = to_styles(direction_angry, affine_layers)"
   ]
  },
  {
   "cell_type": "code",
   "execution_count": 8,
   "id": "3938d8b2",
   "metadata": {},
   "outputs": [
    {
     "name": "stdout",
     "output_type": "stream",
     "text": [
      "0.0\n",
      "0.0\n",
      "0.054443359375\n",
      "-0.08465576171875\n",
      "0.0\n",
      "0.0\n",
      "0.0\n",
      "0.0\n"
     ]
    }
   ],
   "source": [
    "for i in range(len(edit_happy)):\n",
    "    happy_len = torch.norm(edit_happy[i], 2)\n",
    "    angry_len = torch.norm(edit_angry[i], 2)\n",
    "    if happy_len > 1e-4 and angry_len > 1e-4:\n",
    "        edit_happy[i] /= happy_len\n",
    "        edit_angry[i] /= angry_len\n",
    "        print(torch.dot(edit_happy[i], edit_angry[i]).item())"
   ]
  }
 ],
 "metadata": {
  "kernelspec": {
   "display_name": "Python 3 (ipykernel)",
   "language": "python",
   "name": "python3"
  },
  "language_info": {
   "codemirror_mode": {
    "name": "ipython",
    "version": 3
   },
   "file_extension": ".py",
   "mimetype": "text/x-python",
   "name": "python",
   "nbconvert_exporter": "python",
   "pygments_lexer": "ipython3",
   "version": "3.7.11"
  }
 },
 "nbformat": 4,
 "nbformat_minor": 5
}
