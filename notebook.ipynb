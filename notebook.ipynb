{
 "cells": [
  {
   "cell_type": "code",
   "execution_count": 1,
   "id": "22e977e5",
   "metadata": {},
   "outputs": [],
   "source": [
    "import numpy as np\n",
    "import torch\n",
    "from editings import styleclip_global_utils\n",
    "from utils.models_utils import load_generators, load_old_G, load_from_pkl_model\n",
    "from utils.edit_utils import get_affine_layers, load_stylespace_std, to_styles"
   ]
  },
  {
   "cell_type": "code",
   "execution_count": 2,
   "id": "1000aef1",
   "metadata": {},
   "outputs": [],
   "source": [
    "gen = load_from_pkl_model( load_old_G() )"
   ]
  },
  {
   "cell_type": "code",
   "execution_count": 3,
   "id": "0cb8e8ba",
   "metadata": {},
   "outputs": [],
   "source": [
    "affine_layers = get_affine_layers(gen.synthesis)"
   ]
  },
  {
   "cell_type": "code",
   "execution_count": 4,
   "id": "23ce364f",
   "metadata": {},
   "outputs": [],
   "source": [
    "neutral_class = 'face'\n",
    "beta = 0.1\n",
    "edit_names = ['happy', 'angry']"
   ]
  },
  {
   "cell_type": "code",
   "execution_count": 5,
   "id": "9d2bf25d",
   "metadata": {},
   "outputs": [
    {
     "name": "stderr",
     "output_type": "stream",
     "text": [
      "100%|██████████████████████████████████████████████████████████████████████████████████████████████| 2/2 [00:03<00:00,  1.76s/it]\n",
      "100%|██████████████████████████████████████████████████████████████████████████████████████████████| 2/2 [00:00<00:00,  4.96it/s]\n"
     ]
    }
   ],
   "source": [
    "direction_happy = styleclip_global_utils.get_direction(neutral_class, 'happy', beta)\n",
    "direction_angry = styleclip_global_utils.get_direction(neutral_class, 'angry', beta)"
   ]
  },
  {
   "cell_type": "code",
   "execution_count": 6,
   "id": "7748ee8d",
   "metadata": {},
   "outputs": [],
   "source": [
    "edit_happy = to_styles(direction_happy, affine_layers)\n",
    "edit_angry = to_styles(direction_angry, affine_layers)"
   ]
  },
  {
   "cell_type": "code",
   "execution_count": 8,
   "id": "e7f42c6e",
   "metadata": {},
   "outputs": [
    {
     "name": "stdout",
     "output_type": "stream",
     "text": [
      "0.0\n",
      "0.0\n",
      "0.054443359375\n",
      "-0.08465576171875\n",
      "0.0\n",
      "0.0\n",
      "0.0\n",
      "0.0\n"
     ]
    }
   ],
   "source": [
    "for i in range(len(edit_happy)):\n",
    "    happy_len = torch.norm(edit_happy[i], 2)\n",
    "    angry_len = torch.norm(edit_angry[i], 2)\n",
    "    if happy_len > 1e-4 and angry_len > 1e-4:\n",
    "        edit_happy[i] /= happy_len\n",
    "        edit_angry[i] /= angry_len\n",
    "        print(torch.dot(edit_happy[i], edit_angry[i]).item())"
   ]
  },
  {
   "cell_type": "code",
   "execution_count": 10,
   "id": "ed4a5bd2",
   "metadata": {},
   "outputs": [
    {
     "name": "stderr",
     "output_type": "stream",
     "text": [
      "100%|██████████████████████████████████████████████████████████████████████████████████████████████| 2/2 [00:00<00:00,  5.99it/s]\n"
     ]
    },
    {
     "data": {
      "text/plain": [
       "tensor([ 0.0000, -0.0000,  0.0000,  ..., -0.5640,  0.0000, -0.0000],\n",
       "       device='cuda:0', dtype=torch.float16)"
      ]
     },
     "execution_count": 10,
     "metadata": {},
     "output_type": "execute_result"
    }
   ],
   "source": [
    "styleclip_global_utils.get_direction(neutral_class, 'anger', 0.1)"
   ]
  },
  {
   "cell_type": "code",
   "execution_count": 11,
   "id": "3c006d36",
   "metadata": {},
   "outputs": [],
   "source": [
    "pivots = np.load('w_vectors/e4e_yukun_happy_anger.npy')\n",
    "from configs import global_config\n",
    "pivots = torch.Tensor(pivots).to(global_config.device)"
   ]
  },
  {
   "cell_type": "code",
   "execution_count": 12,
   "id": "46daffc3",
   "metadata": {},
   "outputs": [],
   "source": [
    "from utils.edit_utils import w_to_styles\n",
    "styles = w_to_styles(pivots, affine_layers)"
   ]
  },
  {
   "cell_type": "code",
   "execution_count": 13,
   "id": "7b5684ec",
   "metadata": {},
   "outputs": [],
   "source": [
    "styles_origin = w_to_styles(pivots[0][None], affine_layers)"
   ]
  },
  {
   "cell_type": "code",
   "execution_count": 15,
   "id": "8b3986d8",
   "metadata": {},
   "outputs": [],
   "source": [
    "for i in range(len(edit_happy)):\n",
    "    edit_happy[i] = edit_happy[i].float()\n",
    "    edit_angry[i] = edit_angry[i].float()"
   ]
  },
  {
   "cell_type": "code",
   "execution_count": 17,
   "id": "3fc0541a",
   "metadata": {},
   "outputs": [],
   "source": [
    "happy_components = []\n",
    "angry_components = []\n",
    "for i in range(len(styles)):\n",
    "    happy_components.append( torch.matmul((styles[i] - styles_origin[i]), edit_happy[i]) )\n",
    "    angry_components.append( torch.matmul((styles[i] - styles_origin[i]), edit_angry[i]) )"
   ]
  },
  {
   "cell_type": "code",
   "execution_count": 19,
   "id": "35fdabd0",
   "metadata": {},
   "outputs": [
    {
     "name": "stdout",
     "output_type": "stream",
     "text": [
      "torch.Size([26, 136])\n",
      "torch.Size([26, 136])\n"
     ]
    }
   ],
   "source": [
    "happy_comp_tensor = torch.vstack(happy_components)\n",
    "angry_comp_tensor = torch.vstack(angry_components)\n",
    "print(happy_comp_tensor.shape)\n",
    "print(angry_comp_tensor.shape)"
   ]
  },
  {
   "cell_type": "code",
   "execution_count": 26,
   "id": "68c2283e",
   "metadata": {},
   "outputs": [
    {
     "name": "stdout",
     "output_type": "stream",
     "text": [
      "(26, 136)\n",
      "(26, 136)\n"
     ]
    }
   ],
   "source": [
    "happy_comp_np = happy_comp_tensor.cpu().numpy()\n",
    "angry_comp_np = angry_comp_tensor.cpu().numpy()\n",
    "print(happy_comp_np.shape)\n",
    "print(angry_comp_np.shape)\n",
    "np.save('TEST/happy_comp.npy', happy_comp_np)\n",
    "np.save('TEST/angry_comp.npy', angry_comp_np)"
   ]
  }
 ],
 "metadata": {
  "kernelspec": {
   "display_name": "Python 3 (ipykernel)",
   "language": "python",
   "name": "python3"
  },
  "language_info": {
   "codemirror_mode": {
    "name": "ipython",
    "version": 3
   },
   "file_extension": ".py",
   "mimetype": "text/x-python",
   "name": "python",
   "nbconvert_exporter": "python",
   "pygments_lexer": "ipython3",
   "version": "3.7.11"
  }
 },
 "nbformat": 4,
 "nbformat_minor": 5
}
